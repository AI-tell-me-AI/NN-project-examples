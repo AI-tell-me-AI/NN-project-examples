{
 "cells": [
  {
   "cell_type": "markdown",
   "source": [
    "# Exercises - example projects"
   ],
   "metadata": {
    "collapsed": false
   }
  },
  {
   "cell_type": "markdown",
   "source": [
    "https://keras.io/examples/structured_data/imbalanced_classification/\n",
    "https://keras.io/examples/structured_data/structured_data_classification_from_scratch/\n",
    "https://www.tensorflow.org/tutorials/structured_data/imbalanced_data\n",
    "https://www.tensorflow.org/tutorials/quickstart/beginner\n"
   ],
   "metadata": {
    "collapsed": false
   }
  }
 ],
 "metadata": {
  "kernelspec": {
   "display_name": "Python 3",
   "language": "python",
   "name": "python3"
  },
  "language_info": {
   "codemirror_mode": {
    "name": "ipython",
    "version": 2
   },
   "file_extension": ".py",
   "mimetype": "text/x-python",
   "name": "python",
   "nbconvert_exporter": "python",
   "pygments_lexer": "ipython2",
   "version": "2.7.6"
  }
 },
 "nbformat": 4,
 "nbformat_minor": 0
}
